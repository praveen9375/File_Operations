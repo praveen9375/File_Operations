{
 "cells": [
  {
   "cell_type": "code",
   "execution_count": 1,
   "id": "557ef791",
   "metadata": {},
   "outputs": [
    {
     "data": {
      "text/plain": [
       "'www.google.com'"
      ]
     },
     "execution_count": 1,
     "metadata": {},
     "output_type": "execute_result"
    }
   ],
   "source": [
    "def extract_domain_name(url):\n",
    "    \n",
    "    url_without_protocol = url.split(\"://\")[1] if \"://\" in url else url\n",
    "    return (url_without_protocol.split(\"/\")[0])\n",
    "url = \"https://www.google.com/search?q=python\"\n",
    "extract_domain_name(url)"
   ]
  },
  {
   "cell_type": "code",
   "execution_count": 2,
   "id": "14807d8e",
   "metadata": {
    "scrolled": true
   },
   "outputs": [
    {
     "name": "stdout",
     "output_type": "stream",
     "text": [
      "C\n",
      ":\n",
      "\\\n",
      "U\n",
      "s\n",
      "e\n",
      "r\n",
      "s\n",
      "\\\n",
      "P\n",
      "r\n",
      "a\n",
      "V\n",
      "E\n",
      "e\n",
      "n\n",
      "\\\n",
      "D\n",
      "o\n",
      "w\n",
      "n\n",
      "l\n",
      "o\n",
      "a\n",
      "d\n",
      "s\n",
      "\\\n",
      "0\n",
      "5\n",
      "0\n",
      "2\n",
      "_\n",
      "Q\n",
      "o\n",
      "n\n",
      "l\n",
      "y\n",
      "1\n",
      ".\n",
      "t\n",
      "x\n",
      "t\n"
     ]
    }
   ],
   "source": [
    "# a file named \"geek\", will be opened with the reading mode.\n",
    "file = r'''C:\\Users\\PraVEen\\Downloads\\0502_Qonly1.txt'''\n",
    "file_dir = open(file, 'r')\n",
    "# This will print every line one by one in the file\n",
    "for each in file:\n",
    "    print (each)"
   ]
  },
  {
   "cell_type": "code",
   "execution_count": 3,
   "id": "a0ac46d5",
   "metadata": {},
   "outputs": [
    {
     "name": "stdout",
     "output_type": "stream",
     "text": [
      "may-02:\n",
      "topics: \n",
      "\t1. parsing samples\n",
      "\t2. file handling\n",
      "\t3. json\n",
      "-- use of ternary operator!!\n",
      "1. parsing samples\n",
      "def extract_domain_name(url):\n",
      "    \n",
      "    url.split(\"://\")[1] if \"://\" in url else url\n",
      "    \n",
      "    # Remove path\n",
      "    return = url_without_protocol.split(\"/\")[0]\n",
      "\n",
      "# Test the function\n",
      "url = \"https://www.google.com/search?q=python\"\n",
      "\n",
      "\n",
      "2. file handling\n",
      "- study on read, write\n",
      "- use of with\n",
      "- read & read(n), readline, readlines [where does pointer end?]\n",
      "- write, writelines\n",
      "- exceptions that occurs while file operations [FileNotFoundError, PermissionError, IOError]\n",
      "example:\n",
      "\tfilename = \"example.txt\"\n",
      "\n",
      "\ttry:\n",
      "\t\t# Try to open the file for reading\n",
      "\t\twith open(filename, \"r\") as f:\n",
      "\t\t\tdata = f.read()\n",
      "\t\t# Do something with the data...\n",
      "\t\tprint(data)\n",
      "\n",
      "\texcept FileNotFoundError:\n",
      "\t\t# Handle the case where the file doesn't exist\n",
      "\t\tprint(f\"Error: file {filename} not found.\")\n",
      "\n",
      "\texcept PermissionError:\n",
      "\t\t# Handle the case where the user doesn't have permission to read the file\n",
      "\t\tprint(f\"Error: you do not have permission to read {filename}.\")\n",
      "\n",
      "\texcept IOError:\n",
      "\t\t# Handle any other I/O errors that may occur\n",
      "\t\tprint(\"Error: an I/O error occurred while reading the file.\")\n",
      "- seek(), tell()\n",
      "- rb, wb mode & decode(), encode()\n",
      "\t- utf-8, ASCII, UTF-16 etc\n",
      "\t\n",
      "\t# Open a binary file in read mode\n",
      "\twith open('image.jpg', 'rb') as f:\n",
      "\t\t# Read the contents of the file\n",
      "\t\tbinary_data = f.read()\n",
      "\n",
      "\t# Open a binary file in write mode\n",
      "\twith open('copy.jpg', 'wb') as f:\n",
      "\t\t# Write the binary data to the new file\n",
      "\t\tf.write(binary_data)\n",
      "\n",
      "\n",
      "Excercises:\n",
      "Problem 1: Reversing the contents of a file using file pointers\n",
      "\n",
      "Write a Python program to read the contents of a file and then reverse its contents using file pointers. In other words, you need to write the contents of the file to a new file in reverse order.\n",
      "\n",
      "Sample Input: input.txt\n",
      "This is a sample file.\n",
      "It contains some words.\n",
      "\n",
      "Sample Output: output.txt\n",
      ".sdraw moc sdnuos tniatnoc tI\n",
      ".elif elpmas a si sihT\n",
      "\n",
      "\n",
      "\n",
      "Problem 2: Copying a file using file pointers\n",
      "\n",
      "Write a Python program to copy the contents of one file to another file using file pointers. You should be able to copy files of any size.\n",
      "\n",
      "Sample Input: input.txt\n",
      "This is a sample file.\n",
      "It contains some words.\n",
      "\n",
      "Sample Output: output.txt\n",
      "This is a sample file.\n",
      "It contains some words.\n",
      "\n",
      "with open('input.txt', 'rb') as f1, open('output.txt', 'wb') as f2:\n",
      "    \n",
      "    f1.seek(0)\n",
      "    \n",
      "    while True:\n",
      "        \n",
      "        data = f1.read(1024)\n",
      "        \n",
      "        if not data:\n",
      "            break\n",
      "        \n",
      "        f2.write(data)\n",
      "\n",
      "\n",
      "Find output:\n",
      "\timport os\n",
      "\n",
      "\tstaging_dir = './staging/'\n",
      "\tfinal_dir = './final/'\n",
      "\n",
      "\tdef concatenate_files():\n",
      "\t\tfilenames = ['file1.txt', 'file2.txt', 'file3.txt']\n",
      "\t\toutput_filename = 'concatenated.txt'\n",
      "\n",
      "\t\t\n",
      "\t\toutput_file = open(os.path.join(final_dir, output_filename), 'w')\n",
      "\n",
      "\t\t\n",
      "\t\tfor filename in filenames:\n",
      "\t\t\tinput_file = open(os.path.join(staging_dir, filename), 'r')\n",
      "\t\t\toutput_file.write(input_file.read())\n",
      "\t\t\tinput_file.close()\n",
      "\n",
      "\t\t\n",
      "\t\toutput_file_size = os.path.getsize(os.path.join(final_dir, output_filename))\n",
      "\t\tif output_file_size > 200000:\n",
      "\t\t\t\n",
      "\t\t\textra_output_filename = 'concatenated_2.txt'\n",
      "\t\t\textra_output_file = open(os.path.join(final_dir, extra_output_filename), 'w')\n",
      "\n",
      "\t\t\t\n",
      "\t\t\t\n",
      "\t\t\thalf_size = output_file_size // 2\n",
      "\t\t\toutput_file.seek(half_size)\n",
      "\t\t\textra_output_file.write(output_file.read())\n",
      "\t\t\toutput_file.truncate(half_size)\n",
      "\t\t\t\n",
      "\t\t\textra_output_file.close()\n",
      "\t\t\n",
      "\t\toutput_file.close()\n",
      "\n",
      "\tconcatenate_files()\n",
      "\n",
      "\n",
      "- CSV:\n",
      "\t- reader, writer\n",
      "\t- next()\n",
      "\t- delimiter, quotechar\n",
      "\t- DictReader , DictWriter \n",
      "\t- Dialect class\n",
      "\t\n",
      "- json:\n",
      "\t- loads()\n",
      "\t- dumps()\n",
      "\t- load()\n",
      "\t- dump()\n",
      "\t- diff between load() vs loads()\n",
      "\t- Handling Errors (JSONDecodeError)\n",
      "\n"
     ]
    }
   ],
   "source": [
    "# Python code to illustrate read() mode\n",
    "file = open(r\"C:\\Users\\PraVEen\\Downloads\\0502_Qonly1.txt\", \"r\")\n",
    "print (file.read())"
   ]
  },
  {
   "cell_type": "code",
   "execution_count": 4,
   "id": "cf77e6f6",
   "metadata": {},
   "outputs": [
    {
     "name": "stdout",
     "output_type": "stream",
     "text": [
      "may-02:\n",
      "topics: \n",
      "\t1. pars\n"
     ]
    }
   ],
   "source": [
    "# Python code to illustrate read() mode character wise\n",
    "file = open(r\"C:\\Users\\PraVEen\\Downloads\\0502_Qonly1.txt\", \"r\")\n",
    "print (file.read(25))"
   ]
  },
  {
   "cell_type": "code",
   "execution_count": 5,
   "id": "4efc4480",
   "metadata": {},
   "outputs": [],
   "source": [
    "# Python code to create a file\n",
    "file = open(r'C:\\Users\\PraVEen\\Downloads\\1.txt','w')\n",
    "file.write(\"This is the write command\")\n",
    "file.write(\"It allows us to write in a particular file\")\n",
    "file.close()"
   ]
  },
  {
   "cell_type": "code",
   "execution_count": 6,
   "id": "c0dfd54d",
   "metadata": {},
   "outputs": [
    {
     "name": "stdout",
     "output_type": "stream",
     "text": [
      "This is the write commandIt allows us to write in a particular file\n"
     ]
    }
   ],
   "source": [
    "file = open(r\"C:\\Users\\PraVEen\\Downloads\\1.txt\", \"r\")\n",
    "print (file.read())"
   ]
  },
  {
   "cell_type": "code",
   "execution_count": 7,
   "id": "3b748d1b",
   "metadata": {},
   "outputs": [],
   "source": [
    "file = open(r\"C:\\Users\\PraVEen\\Downloads\\1.txt\",'a')\n",
    "file.write(\"It allows us for adding a particular line\")\n",
    "file.close()"
   ]
  },
  {
   "cell_type": "code",
   "execution_count": 8,
   "id": "f9bb5b6e",
   "metadata": {},
   "outputs": [
    {
     "name": "stdout",
     "output_type": "stream",
     "text": [
      "This is the write commandIt allows us to write in a particular fileIt allows us for adding a particular line\n"
     ]
    }
   ],
   "source": [
    "file = open(r\"C:\\Users\\PraVEen\\Downloads\\1.txt\", \"r\")\n",
    "print (file.read())"
   ]
  },
  {
   "cell_type": "code",
   "execution_count": 9,
   "id": "6f7c05ff",
   "metadata": {},
   "outputs": [
    {
     "name": "stdout",
     "output_type": "stream",
     "text": [
      "['Hello', 'World!!!']\n"
     ]
    }
   ],
   "source": [
    "# Python code to illustrate with() alongwith write()\n",
    "with open(r\"C:\\Users\\PraVEen\\Downloads\\1.txt\", \"w\") as f:\n",
    "    f.write(\"Hello World!!!\")\n",
    "with open(r\"C:\\Users\\PraVEen\\Downloads\\1.txt\", \"r\") as file:\n",
    "    data = file.readlines()\n",
    "    for line in data:\n",
    "        word = line.split()\n",
    "    print(word)"
   ]
  },
  {
   "cell_type": "code",
   "execution_count": 10,
   "id": "62543b1e",
   "metadata": {},
   "outputs": [
    {
     "name": "stdout",
     "output_type": "stream",
     "text": [
      "Hello World!!!\n"
     ]
    }
   ],
   "source": [
    "# Python code to illustrate with() alongwith write()\n",
    "with open(r\"C:\\Users\\PraVEen\\Downloads\\1.txt\", \"r\") as f:\n",
    "    print(f.read())"
   ]
  },
  {
   "cell_type": "code",
   "execution_count": 11,
   "id": "146381a9",
   "metadata": {},
   "outputs": [
    {
     "name": "stdout",
     "output_type": "stream",
     "text": [
      "['Hello', 'World!!!']\n"
     ]
    }
   ],
   "source": [
    "# Python code to illustrate split() function\n",
    "with open(r\"C:\\Users\\PraVEen\\Downloads\\1.txt\", \"r\") as file:\n",
    "    data = file.readlines()\n",
    "    for line in data:\n",
    "        word = line.split()\n",
    "    print(word)"
   ]
  },
  {
   "cell_type": "code",
   "execution_count": 12,
   "id": "79a961c9",
   "metadata": {},
   "outputs": [
    {
     "name": "stdout",
     "output_type": "stream",
     "text": [
      "['Hello', 'Prash!!!']\n"
     ]
    }
   ],
   "source": [
    "# Python code to illustrate with() alongwith write()\n",
    "with open(r\"C:\\Users\\PraVEen\\Downloads\\1.txt\", \"w\") as f:\n",
    "    f.writelines(\"Hello Prash!!!\")\n",
    "with open(r\"C:\\Users\\PraVEen\\Downloads\\1.txt\", \"r\") as file:\n",
    "    data = file.readlines()\n",
    "    for line in data:\n",
    "        word = line.split()\n",
    "    print(word)"
   ]
  },
  {
   "cell_type": "code",
   "execution_count": 13,
   "id": "2d4db839",
   "metadata": {},
   "outputs": [
    {
     "name": "stdout",
     "output_type": "stream",
     "text": [
      "Output of Read function is \n",
      "Imagine Dragons \n",
      "Ready Aim Fire \n",
      "Ready Aim Fire \n",
      "An empire's fall in just one day \n",
      "\n",
      "87\n",
      "\n",
      "Output of Readline function is \n",
      "Imagine Dragons \n",
      "\n",
      "\n",
      "Output of Read(9) function is \n",
      "Imagine D\n",
      "\n",
      "Output of Readline(9) function is \n",
      "Imagine D\n",
      "Output of Readlines function is \n",
      "['Imagine Dragons \\n', 'Ready Aim Fire \\n', 'Ready Aim Fire \\n', \"An empire's fall in just one day \\n\"]\n",
      "\n"
     ]
    }
   ],
   "source": [
    "# Program to show various ways to read and write data in a file.\n",
    "file1 = open(r\"C:\\Users\\PraVEen\\Downloads\\2.txt\",\"w\")\n",
    "L = [\"Ready Aim Fire \\n\",\"Ready Aim Fire \\n\",\"An empire's fall in just one day \\n\"]\n",
    " \n",
    "# \\n is placed to indicate EOL (End of Line)\n",
    "file1.write(\"Imagine Dragons \\n\")\n",
    "file1.writelines(L)\n",
    "file1.close() #to change file access modes\n",
    " \n",
    "file1 = open(r\"C:\\Users\\PraVEen\\Downloads\\2.txt\",\"r+\")\n",
    " \n",
    "print(\"Output of Read function is \")\n",
    "print(file1.read())\n",
    "print(file1.tell())\n",
    "print()\n",
    " \n",
    "# seek(n) takes the file handle to the nth byte from the beginning.\n",
    "file1.seek(0)\n",
    " \n",
    "print( \"Output of Readline function is \")\n",
    "print(file1.readline())\n",
    "print()\n",
    " \n",
    "file1.seek(0)\n",
    " \n",
    "# To show difference between read and readline\n",
    "print(\"Output of Read(9) function is \")\n",
    "print(file1.read(9))\n",
    "print()\n",
    " \n",
    "file1.seek(0)\n",
    " \n",
    "print(\"Output of Readline(9) function is \")\n",
    "print(file1.readline(9))\n",
    " \n",
    "file1.seek(0)\n",
    "\n",
    "# readlines function\n",
    "print(\"Output of Readlines function is \")\n",
    "print(file1.readlines())\n",
    "print()\n",
    "file1.close()"
   ]
  },
  {
   "cell_type": "code",
   "execution_count": 14,
   "id": "705f8984",
   "metadata": {},
   "outputs": [
    {
     "name": "stdout",
     "output_type": "stream",
     "text": [
      ".sdrow emos sniatnoc tI\n",
      ".elif elpmas a si sihT\n"
     ]
    }
   ],
   "source": [
    "# Open the file in write mode\n",
    "f1 = open(r\"C:\\Users\\PraVEen\\Downloads\\output.txt\", \"w\")\n",
    " \n",
    "# Open the input file and get\n",
    "# the content into a variable data\n",
    "with open(r\"C:\\Users\\PraVEen\\Downloads\\imput.txt\", \"r\") as myfile:\n",
    "    data = myfile.read() \n",
    "# For Full Reversing we will store the value of data into new variable data_1 in a reverse order using [start: end: step], where step when passed -1 will reverse the string\n",
    "data_1 = data[::-1]\n",
    " \n",
    "# Now we will write the fully reverse data in the output1 file using following command\n",
    "f1.write(data_1)\n",
    " \n",
    "f1.close()\n",
    "\n",
    "f1 = open(r\"C:\\Users\\PraVEen\\Downloads\\output.txt\", \"r\")\n",
    "print(f1.read())"
   ]
  },
  {
   "cell_type": "code",
   "execution_count": null,
   "id": "c6fc3e6b",
   "metadata": {},
   "outputs": [],
   "source": [
    "# Open the file in write mode\n",
    "f2 = open(\"output2.txt\", \"w\")\n",
    " \n",
    " \n",
    "# Open the input file again and get\n",
    "# the content as list to a variable data\n",
    "with open(\"file.txt\", \"r\") as myfile:\n",
    "    data = myfile.readlines()\n",
    " \n",
    "# We will just reverse the array using following code\n",
    "data_2 = data[::-1]\n",
    " \n",
    "# Fully reversing list in the output2 file using following command\n",
    "f2.writelines(data_2)\n",
    " \n",
    "f2.close()"
   ]
  },
  {
   "cell_type": "code",
   "execution_count": null,
   "id": "24fbfd51",
   "metadata": {},
   "outputs": [],
   "source": [
    "Find output:\n",
    "\timport os\n",
    "\n",
    "\tstaging_dir = './staging/'\n",
    "\tfinal_dir = './final/'\n",
    "\n",
    "\tdef concatenate_files():\n",
    "\t\tfilenames = ['file1.txt', 'file2.txt', 'file3.txt']\n",
    "\t\toutput_filename = 'concatenated.txt'\n",
    "\n",
    "\t\t\n",
    "\t\toutput_file = open(os.path.join(final_dir, output_filename), 'w')\n",
    "\n",
    "\t\t\n",
    "\t\tfor filename in filenames:\n",
    "\t\t\tinput_file = open(os.path.join(staging_dir, filename), 'r')\n",
    "\t\t\toutput_file.write(input_file.read())\n",
    "\t\t\tinput_file.close()\n",
    "\n",
    "\t\t\n",
    "\t\toutput_file_size = os.path.getsize(os.path.join(final_dir, output_filename))\n",
    "\t\tif output_file_size > 200000:\n",
    "\t\t\t\n",
    "\t\t\textra_output_filename = 'concatenated_2.txt'\n",
    "\t\t\textra_output_file = open(os.path.join(final_dir, extra_output_filename), 'w')\n",
    "\n",
    "\t\t\t\n",
    "\t\t\t\n",
    "\t\t\thalf_size = output_file_size // 2\n",
    "\t\t\toutput_file.seek(half_size)\n",
    "\t\t\textra_output_file.write(output_file.read())\n",
    "\t\t\toutput_file.truncate(half_size)\n",
    "\t\t\t\n",
    "\t\t\textra_output_file.close()\n",
    "\t\t\n",
    "\t\toutput_file.close()\n",
    "\n",
    "\tconcatenate_files()"
   ]
  },
  {
   "cell_type": "code",
   "execution_count": 15,
   "id": "e7ba206d",
   "metadata": {},
   "outputs": [
    {
     "name": "stdout",
     "output_type": "stream",
     "text": [
      "Total no. of rows: 1001\n",
      "Field names are:EEID, Full Name, Job Title, Department, Business Unit, Gender, Ethnicity, Age, Hire Date, Annual Salary, Bonus %, Country, City, Exit Date\n",
      "\n",
      "First 10 rows are:\n",
      "\n",
      "    E02387 Emily Davis Sr. Manger         IT Research & Development     Female      Black         55   4/8/2016  $141,604         15% United States    Seattle 10/16/2021 \n",
      "\n",
      "    E04105 Theodore Dinh Technical Architect         IT Manufacturing       Male      Asian         59 11/29/1997   $99,975          0%      China  Chongqing            \n",
      "\n",
      "    E02572 Luna Sanders   Director    Finance Speciality Products     Female  Caucasian         50 10/26/2006  $163,099         20% United States    Chicago            \n",
      "\n",
      "    E02832 Penelope Jordan Computer Systems Manager         IT Manufacturing     Female  Caucasian         26  9/27/2019   $84,913          7% United States    Chicago            \n",
      "\n",
      "    E01639  Austin Vo Sr. Analyst    Finance Manufacturing       Male      Asian         55 11/20/1995   $95,409          0% United States    Phoenix            \n",
      "\n",
      "    E00644 Joshua Gupta Account Representative      Sales  Corporate       Male      Asian         57  1/24/2017   $50,994          0%      China  Chongqing            \n",
      "\n",
      "    E01550 Ruby Barnes    Manager         IT  Corporate     Female  Caucasian         27   7/1/2020  $119,746         10% United States    Phoenix            \n",
      "\n",
      "    E04332 Luke Martin    Analyst    Finance Manufacturing       Male      Black         25  5/16/2020   $41,336          0% United States      Miami  5/20/2021 \n",
      "\n",
      "    E04533 Easton Bailey    Manager Accounting Manufacturing       Male  Caucasian         29  1/25/2019  $113,527          6% United States     Austin            \n",
      "\n",
      "    E03838 Madeline Walker Sr. Analyst    Finance Speciality Products     Female  Caucasian         34  6/13/2018   $77,203          0% United States    Chicago            \n",
      "\n"
     ]
    }
   ],
   "source": [
    "# importing csv module\n",
    "import csv\n",
    " \n",
    "# csv file name\n",
    "filename = r\"C:\\Users\\PraVEen\\Downloads\\Employee.csv\"\n",
    " \n",
    "# initializing the titles and rows list\n",
    "fields = []\n",
    "rows = []\n",
    " \n",
    "# reading csv file\n",
    "with open(filename, 'r') as csvfile:\n",
    "    # creating a csv reader object\n",
    "    csvreader = csv.reader(csvfile)\n",
    "     \n",
    "    # extracting field names through first row\n",
    "    fields = next(csvreader)\n",
    " \n",
    "    # extracting each data row one by one\n",
    "    for row in csvreader:\n",
    "        rows.append(row)\n",
    " \n",
    "    # get total number of rows\n",
    "    print(\"Total no. of rows: %d\"%(csvreader.line_num))\n",
    " \n",
    "# printing the field names\n",
    "print('Field names are:' + ', '.join(field for field in fields))\n",
    " \n",
    "# printing first 10 rows\n",
    "print('\\nFirst 10 rows are:\\n')\n",
    "for row in rows[:10]:\n",
    "    # parsing each column of a row\n",
    "    for col in row:\n",
    "        print(\"%10s\"%col,end=\" \"),\n",
    "    print('\\n')"
   ]
  },
  {
   "cell_type": "code",
   "execution_count": 17,
   "id": "569a79d6",
   "metadata": {},
   "outputs": [
    {
     "name": "stdout",
     "output_type": "stream",
     "text": [
      "    E02387 Emily Davis Sr. Manger         IT Research & Development     Female      Black         55   4/8/2016  $141,604         15% United States    Seattle 10/16/2021 \n",
      "\n",
      "    E04105 Theodore Dinh Technical Architect         IT Manufacturing       Male      Asian         59 11/29/1997   $99,975          0%      China  Chongqing            \n",
      "\n",
      "    E02572 Luna Sanders   Director    Finance Speciality Products     Female  Caucasian         50 10/26/2006  $163,099         20% United States    Chicago            \n",
      "\n",
      "    E02832 Penelope Jordan Computer Systems Manager         IT Manufacturing     Female  Caucasian         26  9/27/2019   $84,913          7% United States    Chicago            \n",
      "\n",
      "    E01639  Austin Vo Sr. Analyst    Finance Manufacturing       Male      Asian         55 11/20/1995   $95,409          0% United States    Phoenix            \n",
      "\n",
      "    E00644 Joshua Gupta Account Representative      Sales  Corporate       Male      Asian         57  1/24/2017   $50,994          0%      China  Chongqing            \n",
      "\n",
      "    E01550 Ruby Barnes    Manager         IT  Corporate     Female  Caucasian         27   7/1/2020  $119,746         10% United States    Phoenix            \n",
      "\n",
      "    E04332 Luke Martin    Analyst    Finance Manufacturing       Male      Black         25  5/16/2020   $41,336          0% United States      Miami  5/20/2021 \n",
      "\n",
      "    E04533 Easton Bailey    Manager Accounting Manufacturing       Male  Caucasian         29  1/25/2019  $113,527          6% United States     Austin            \n",
      "\n",
      "    E03838 Madeline Walker Sr. Analyst    Finance Speciality Products     Female  Caucasian         34  6/13/2018   $77,203          0% United States    Chicago            \n",
      "\n"
     ]
    }
   ],
   "source": [
    "import csv\n",
    "\n",
    "with open(r\"C:\\Users\\PraVEen\\Downloads\\Employee.csv\") as csvf:\n",
    "    csvReader = csv.reader(csvf, delimiter=',',quotechar='|')\n",
    "for row in rows[:10]:\n",
    "    # parsing each column of a row\n",
    "    for col in row:\n",
    "        print(\"%10s\"%col,end=\" \"),\n",
    "    print('\\n')"
   ]
  },
  {
   "cell_type": "code",
   "execution_count": null,
   "id": "708922b8",
   "metadata": {},
   "outputs": [],
   "source": []
  }
 ],
 "metadata": {
  "kernelspec": {
   "display_name": "Python 3 (ipykernel)",
   "language": "python",
   "name": "python3"
  },
  "language_info": {
   "codemirror_mode": {
    "name": "ipython",
    "version": 3
   },
   "file_extension": ".py",
   "mimetype": "text/x-python",
   "name": "python",
   "nbconvert_exporter": "python",
   "pygments_lexer": "ipython3",
   "version": "3.9.13"
  }
 },
 "nbformat": 4,
 "nbformat_minor": 5
}
