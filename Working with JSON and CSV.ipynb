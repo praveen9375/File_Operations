{
 "cells": [
  {
   "cell_type": "code",
   "execution_count": 1,
   "id": "d011fd87",
   "metadata": {},
   "outputs": [
    {
     "name": "stdout",
     "output_type": "stream",
     "text": [
      "John Smith : 85.245\n",
      "Jane Doe : 85.375\n"
     ]
    }
   ],
   "source": [
    "import json\n",
    "\n",
    "with open(r'C:\\Users\\PraVEen\\Downloads\\sample.json', 'r') as file:\n",
    "    data = json.load(file)\n",
    "\n",
    "for customer in data['customers']:\n",
    "    if customer['purchase_history'] is None:\n",
    "        continue\n",
    "    \n",
    "    total = 0\n",
    "    count = 0\n",
    "    \n",
    "    for purchase in customer['purchase_history']:\n",
    "        if purchase['amount'] is not None:\n",
    "            total += purchase['amount']\n",
    "            count += 1\n",
    "    \n",
    "    if count > 0:\n",
    "        avg_purchase = total / count\n",
    "        print(customer['name'], ':', avg_purchase)"
   ]
  },
  {
   "cell_type": "code",
   "execution_count": 28,
   "id": "f7f4a5a1",
   "metadata": {},
   "outputs": [
    {
     "name": "stdout",
     "output_type": "stream",
     "text": [
      "Total number of employees: 3\n"
     ]
    },
    {
     "ename": "TypeError",
     "evalue": "'int' object is not callable",
     "output_type": "error",
     "traceback": [
      "\u001b[1;31m---------------------------------------------------------------------------\u001b[0m",
      "\u001b[1;31mTypeError\u001b[0m                                 Traceback (most recent call last)",
      "\u001b[1;32m~\\AppData\\Local\\Temp\\ipykernel_16040\\1282723989.py\u001b[0m in \u001b[0;36m<module>\u001b[1;34m\u001b[0m\n\u001b[0;32m      7\u001b[0m \u001b[1;33m\u001b[0m\u001b[0m\n\u001b[0;32m      8\u001b[0m \u001b[1;31m# Calculate the average salary\u001b[0m\u001b[1;33m\u001b[0m\u001b[1;33m\u001b[0m\u001b[0m\n\u001b[1;32m----> 9\u001b[1;33m \u001b[0mtotal_salary\u001b[0m \u001b[1;33m=\u001b[0m \u001b[0msum\u001b[0m\u001b[1;33m(\u001b[0m\u001b[0me\u001b[0m\u001b[1;33m[\u001b[0m\u001b[1;34m'employees'\u001b[0m\u001b[1;33m]\u001b[0m\u001b[1;33m[\u001b[0m\u001b[1;34m'salary'\u001b[0m\u001b[1;33m]\u001b[0m \u001b[1;32mfor\u001b[0m \u001b[0me\u001b[0m \u001b[1;32min\u001b[0m \u001b[0memployees\u001b[0m\u001b[1;33m[\u001b[0m\u001b[1;34m'employees'\u001b[0m\u001b[1;33m]\u001b[0m\u001b[1;33m)\u001b[0m\u001b[1;33m\u001b[0m\u001b[1;33m\u001b[0m\u001b[0m\n\u001b[0m\u001b[0;32m     10\u001b[0m \u001b[0mavg_salary\u001b[0m \u001b[1;33m=\u001b[0m \u001b[0mtotal_salary\u001b[0m \u001b[1;33m/\u001b[0m \u001b[0mlen\u001b[0m\u001b[1;33m(\u001b[0m\u001b[0memployees\u001b[0m\u001b[1;33m)\u001b[0m\u001b[1;33m\u001b[0m\u001b[1;33m\u001b[0m\u001b[0m\n\u001b[0;32m     11\u001b[0m \u001b[0mprint\u001b[0m\u001b[1;33m(\u001b[0m\u001b[1;34mf\"Average salary: {avg_salary}\"\u001b[0m\u001b[1;33m)\u001b[0m\u001b[1;33m\u001b[0m\u001b[1;33m\u001b[0m\u001b[0m\n",
      "\u001b[1;31mTypeError\u001b[0m: 'int' object is not callable"
     ]
    }
   ],
   "source": [
    "import json\n",
    "\n",
    "with open(r'C:\\Users\\PraVEen\\Downloads\\employee.json', 'r') as file:\n",
    "    employees = json.load(file)\n",
    "# Print the total number of employees\n",
    "print(f\"Total number of employees: {len(employees['employees'])}\")\n",
    "\n",
    "# Calculate the average salary\n",
    "total_salary = sum(e['employees']['salary'] for e in employees['employees'])\n",
    "avg_salary = total_salary / len(employees)\n",
    "print(f\"Average salary: {avg_salary}\")\n",
    "\n",
    "# Find the employee with the highest salary\n",
    "highest_salary_employee = max(employees, key=lambda e: e['salary'])\n",
    "print(f\"Employee with the highest salary: {highest_salary_employee['name']}\")\n",
    "\n",
    "# Sort the employees by age in ascending order\n",
    "sorted_employees_by_age = sorted(employees, key=lambda e: e['age'])\n",
    "print(\"Employees sorted by age:\")\n",
    "for e in sorted_employees_by_age:\n",
    "    print(f\"- {e['name']}, {e['age']} years old\")\n",
    "\n",
    "# Allow the user to add a new employee\n",
    "new_employee = {\n",
    "    'name': input(\"Enter the employee's name: \"),\n",
    "    'age': int(input(\"Enter the employee's age: \")),\n",
    "    'department': input(\"Enter the employee's department: \"),\n",
    "    'salary': int(input(\"Enter the employee's salary: \"))\n",
    "}\n",
    "employees.append(new_employee)\n",
    "\n",
    "# Save the updated list back to the JSON file\n",
    "with open('employees.json', 'w') as f:\n",
    "    json.dump(employees, f)\n",
    "\n",
    "# Allow the user to search for an employee by name\n",
    "search_name = input(\"Enter the name of the employee to search for: \")\n",
    "found_employee = None\n",
    "for e in employees:\n",
    "    if e['name'] == search_name:\n",
    "        found_employee = e\n",
    "        break\n",
    "\n",
    "if found_employee:\n",
    "    print(f\"Found employee: {found_employee['name']}, {found_employee['age']} years old, {found_employee['department']} department, ${found_employee['salary']} salary\")\n",
    "else:\n",
    "    print(\"Employee not found.\")"
   ]
  },
  {
   "cell_type": "code",
   "execution_count": 30,
   "id": "3df51a46",
   "metadata": {},
   "outputs": [
    {
     "ename": "UnsupportedOperation",
     "evalue": "not writable",
     "output_type": "error",
     "traceback": [
      "\u001b[1;31m---------------------------------------------------------------------------\u001b[0m",
      "\u001b[1;31mUnsupportedOperation\u001b[0m                      Traceback (most recent call last)",
      "\u001b[1;32m~\\AppData\\Local\\Temp\\ipykernel_3328\\2746862124.py\u001b[0m in \u001b[0;36m<module>\u001b[1;34m\u001b[0m\n\u001b[0;32m      6\u001b[0m         \u001b[0mcsv_writer\u001b[0m \u001b[1;33m=\u001b[0m \u001b[0mcsv\u001b[0m\u001b[1;33m.\u001b[0m\u001b[0mwriter\u001b[0m\u001b[1;33m(\u001b[0m\u001b[0mf2\u001b[0m\u001b[1;33m,\u001b[0m\u001b[0mdelimiter\u001b[0m\u001b[1;33m=\u001b[0m\u001b[1;34m','\u001b[0m\u001b[1;33m)\u001b[0m\u001b[1;33m\u001b[0m\u001b[1;33m\u001b[0m\u001b[0m\n\u001b[0;32m      7\u001b[0m         \u001b[1;32mfor\u001b[0m \u001b[0mrow\u001b[0m \u001b[1;32min\u001b[0m \u001b[0mcsv_reader\u001b[0m\u001b[1;33m:\u001b[0m\u001b[1;33m\u001b[0m\u001b[1;33m\u001b[0m\u001b[0m\n\u001b[1;32m----> 8\u001b[1;33m             \u001b[0mcsv_writer\u001b[0m\u001b[1;33m.\u001b[0m\u001b[0mwriterow\u001b[0m\u001b[1;33m(\u001b[0m\u001b[0mrow\u001b[0m\u001b[1;33m)\u001b[0m\u001b[1;33m\u001b[0m\u001b[1;33m\u001b[0m\u001b[0m\n\u001b[0m",
      "\u001b[1;31mUnsupportedOperation\u001b[0m: not writable"
     ]
    }
   ],
   "source": [
    "import csv\n",
    "\n",
    "with open(r'C:\\Users\\PraVEen\\Downloads\\Book1.csv') as f1:\n",
    "    csv_reader = csv.reader(f1,delimiter=',')\n",
    "    with open(r'C:\\Users\\PraVEen\\Downloads\\2.csv') as f2:\n",
    "        csv_writer = csv.writer(f2,delimiter=',')\n",
    "        for row in csv_reader:\n",
    "            csv_writer.writerow(row)"
   ]
  },
  {
   "cell_type": "code",
   "execution_count": 32,
   "id": "773efc86",
   "metadata": {},
   "outputs": [
    {
     "ename": "KeyError",
     "evalue": "'F'",
     "output_type": "error",
     "traceback": [
      "\u001b[1;31m---------------------------------------------------------------------------\u001b[0m",
      "\u001b[1;31mKeyError\u001b[0m                                  Traceback (most recent call last)",
      "\u001b[1;32m~\\AppData\\Local\\Temp\\ipykernel_3328\\1274821831.py\u001b[0m in \u001b[0;36m<module>\u001b[1;34m\u001b[0m\n\u001b[0;32m     27\u001b[0m \u001b[1;32mfor\u001b[0m \u001b[0mrow\u001b[0m \u001b[1;32min\u001b[0m \u001b[0mreader2\u001b[0m\u001b[1;33m:\u001b[0m\u001b[1;33m\u001b[0m\u001b[1;33m\u001b[0m\u001b[0m\n\u001b[0;32m     28\u001b[0m     \u001b[0mcount\u001b[0m \u001b[1;33m=\u001b[0m \u001b[0mlen\u001b[0m\u001b[1;33m(\u001b[0m\u001b[0mrow\u001b[0m\u001b[1;33m)\u001b[0m\u001b[1;33m\u001b[0m\u001b[1;33m\u001b[0m\u001b[0m\n\u001b[1;32m---> 29\u001b[1;33m     \u001b[0mdic\u001b[0m\u001b[1;33m[\u001b[0m\u001b[0mrow\u001b[0m\u001b[1;33m[\u001b[0m\u001b[0mcount\u001b[0m \u001b[1;33m-\u001b[0m \u001b[1;36m1\u001b[0m\u001b[1;33m]\u001b[0m\u001b[1;33m]\u001b[0m \u001b[1;33m+=\u001b[0m \u001b[0mrow\u001b[0m\u001b[1;33m[\u001b[0m\u001b[1;36m0\u001b[0m\u001b[1;33m:\u001b[0m\u001b[0mcount\u001b[0m \u001b[1;33m-\u001b[0m \u001b[1;36m1\u001b[0m\u001b[1;33m]\u001b[0m\u001b[1;33m\u001b[0m\u001b[1;33m\u001b[0m\u001b[0m\n\u001b[0m\u001b[0;32m     30\u001b[0m \u001b[1;33m\u001b[0m\u001b[0m\n\u001b[0;32m     31\u001b[0m \u001b[1;31m#write data to result.csv\u001b[0m\u001b[1;33m\u001b[0m\u001b[1;33m\u001b[0m\u001b[0m\n",
      "\u001b[1;31mKeyError\u001b[0m: 'F'"
     ]
    }
   ],
   "source": [
    "# This is a sample Python script.\n",
    " \n",
    "import csv\n",
    " \n",
    "# read data from file1.csv and file.csv\n",
    "file1 = open(r'C:\\Users\\PraVEen\\Downloads\\Book1.csv')\n",
    "file2 = open(r'C:\\Users\\PraVEen\\Downloads\\2.csv')\n",
    " \n",
    "# make csv readers object for each file\n",
    "reader1 = csv.reader(file1)\n",
    "reader2 = csv.reader(file2)\n",
    " \n",
    "# write a result to result.csv\n",
    "file3 = open(r'C:\\Users\\PraVEen\\Downloads\\3.csv', 'w')\n",
    "writer = csv.writer(file3)\n",
    " \n",
    "dic = {}\n",
    "words = []\n",
    " \n",
    "# read data from file1\n",
    "for row in reader1:\n",
    "    count = len(row)\n",
    "    words.append(row[count - 1])\n",
    "    dic[row[count - 1]] = row[0:count - 1]\n",
    " \n",
    "# read data from file2 and merge data with file1\n",
    "for row in reader2:\n",
    "    count = len(row)\n",
    "    dic[row[count - 1]] += row[0:count - 1]\n",
    " \n",
    "#write data to result.csv\n",
    "for word in words:\n",
    "    dic[word].append(word)\n",
    "    writer.writerow(dic[word])\n",
    " \n",
    "print('merge finished')"
   ]
  },
  {
   "cell_type": "code",
   "execution_count": 35,
   "id": "2497f1d4",
   "metadata": {},
   "outputs": [],
   "source": [
    "import csv\n",
    " \n",
    "with open(r'C:\\Users\\PraVEen\\Downloads\\Book1.csv') as i1, open(r'C:\\Users\\PraVEen\\Downloads\\2.csv') as i2, open(r'C:\\Users\\PraVEen\\Downloads\\3.csv', \"w\") as out:\n",
    "    writer = csv.writer(out)\n",
    " \n",
    "    for set1, set2 in zip(csv.reader(i1), csv.reader(i2)):\n",
    "        writer.writerow(set1 + set2)"
   ]
  },
  {
   "cell_type": "code",
   "execution_count": 56,
   "id": "ae9e877a",
   "metadata": {},
   "outputs": [
    {
     "name": "stdout",
     "output_type": "stream",
     "text": [
      "Enter the dividend: 22\n",
      "Enter the divisor: 2\n",
      "Result: 11.0\n"
     ]
    }
   ],
   "source": [
    "def divide():\n",
    "    num_attempts = 0\n",
    "    while num_attempts < 3:\n",
    "        try:\n",
    "            dividend = int(input(\"Enter the dividend: \"))\n",
    "            try:\n",
    "                divisor = int(input(\"Enter the divisor: \"))\n",
    "                result = dividend / divisor\n",
    "                print(\"Result:\", result)\n",
    "                break\n",
    "            except ZeroDivisionError:\n",
    "                print(\"Cannot divide by zero. Please enter a valid divisor.\")\n",
    "            except ValueError:\n",
    "                print(\"Invalid input for divisor. Please enter a valid integer.\")\n",
    "        except ValueError:\n",
    "            print(\"Invalid input for dividend. Please enter a valid integer.\")\n",
    "        num_attempts += 1\n",
    "    else:\n",
    "        print(\"Error: Too many attempts. Exiting program.\")\n",
    "divide()"
   ]
  },
  {
   "cell_type": "code",
   "execution_count": 57,
   "id": "1d760963",
   "metadata": {},
   "outputs": [
    {
     "name": "stdout",
     "output_type": "stream",
     "text": [
      "Inner exception: division by zero\n",
      "Inner finally block\n",
      "Outer finally block\n"
     ]
    }
   ],
   "source": [
    "try:\n",
    "    x<0\n",
    "    # Some code that might raise an exception\n",
    "    try:\n",
    "        # Some more code that might raise a different exception\n",
    "        x = 1 / 0\n",
    "    except ZeroDivisionError:\n",
    "        # Handle the inner exception\n",
    "        print(\"Inner exception: division by zero\")\n",
    "    finally:\n",
    "        print(\"Inner finally block\")\n",
    "\n",
    "except Exception as e:\n",
    "    # Handle the outer exception\n",
    "    print(\"Outer exception:\", e)\n",
    "\n",
    "finally:\n",
    "    print(\"Outer finally block\")"
   ]
  },
  {
   "cell_type": "code",
   "execution_count": 55,
   "id": "c8e6ea30",
   "metadata": {},
   "outputs": [
    {
     "name": "stdout",
     "output_type": "stream",
     "text": [
      "2Inner exception: division by zero\n",
      "2Inner finally block\n",
      "2Outer exception: \n",
      "2Outer finally block\n"
     ]
    }
   ],
   "source": [
    "try:\n",
    "    x < 0\n",
    "    try:\n",
    "        # Some more code that might raise a different exception\n",
    "        x = 1 / 0\n",
    "    except Exception as e:\n",
    "        # Handle the inner exception\n",
    "        print(\"2Inner exception: division by zero\")\n",
    "        raise Exception\n",
    "    finally:\n",
    "        print(\"2Inner finally block\")\n",
    "\n",
    "except Exception as e:\n",
    "    # Handle the outer exception\n",
    "    print(\"2Outer exception:\", e)\n",
    "\n",
    "finally:\n",
    "    print(\"2Outer finally block\")"
   ]
  },
  {
   "cell_type": "code",
   "execution_count": 62,
   "id": "b81ea8e7",
   "metadata": {},
   "outputs": [
    {
     "name": "stdout",
     "output_type": "stream",
     "text": [
      "2Inner exception: division by zero\n",
      "2Inner finally block\n",
      "503 eror: \n",
      "2Outer finally block\n"
     ]
    },
    {
     "name": "stderr",
     "output_type": "stream",
     "text": [
      "Traceback (most recent call last):\n",
      "  File \"C:\\Users\\PraVEen\\AppData\\Local\\Temp\\ipykernel_3328\\1516664911.py\", line 5, in <module>\n",
      "    x = 1 / 0\n",
      "ZeroDivisionError: division by zero\n",
      "\n",
      "During handling of the above exception, another exception occurred:\n",
      "\n",
      "Traceback (most recent call last):\n",
      "  File \"C:\\Users\\PraVEen\\AppData\\Local\\Temp\\ipykernel_3328\\1516664911.py\", line 11, in <module>\n",
      "    raise Exception\n",
      "Exception\n"
     ]
    }
   ],
   "source": [
    "\n",
    "\n",
    "try:\n",
    "    x < 0\n",
    "    try:\n",
    "        # Some more code that might raise a different exception\n",
    "        x = 1 / 0\n",
    "    except Exception as e:\n",
    "        # Handle the inner exception\n",
    "        print(\"2Inner exception: division by zero\")\n",
    "#         import traceback\n",
    "#         traceback.print_exc()\n",
    "        raise Exception\n",
    "    finally:\n",
    "        print(\"2Inner finally block\")\n",
    "\n",
    "except Exception as e:\n",
    "    import traceback\n",
    "    traceback.print_exc()\n",
    "    # Handle the outer exception\n",
    "    print(\"503 eror:\", e)\n",
    "\n",
    "finally:\n",
    "    print(\"2Outer finally block\")"
   ]
  },
  {
   "cell_type": "code",
   "execution_count": 63,
   "id": "511ff91a",
   "metadata": {},
   "outputs": [
    {
     "name": "stdout",
     "output_type": "stream",
     "text": [
      "28\n"
     ]
    }
   ],
   "source": [
    "x={\n",
    "  \"employees\": [\n",
    "    {\n",
    "      \"name\": \"John Smith\",\n",
    "      \"age\": 25,\n",
    "      \"department\": \"BI\",\n",
    "      \"salary\": 25000\n",
    "    },\n",
    "    {\n",
    "      \"name\": \"John Morrison\",\n",
    "      \"age\": 28,\n",
    "      \"department\": \"DW\",\n",
    "      \"salary\": 28000\n",
    "    },\n",
    "    {\n",
    "      \"name\": \"Raj Kumar\",\n",
    "      \"age\": 21,\n",
    "      \"department\": \"Networking\",\n",
    "      \"salary\": 15000\n",
    "    }\n",
    "  ]\n",
    "}\n",
    "\n",
    "print(x['employees'][1]['age'])"
   ]
  },
  {
   "cell_type": "code",
   "execution_count": 1,
   "id": "8bf985b5",
   "metadata": {},
   "outputs": [
    {
     "name": "stdout",
     "output_type": "stream",
     "text": [
      "['Ram', '22', 'M']\n",
      "['Shyam', '23', 'M']\n",
      "['Hari ', '24', 'M']\n",
      "['Sita', '22', 'F']\n",
      "['Radha', '23', 'F']\n",
      "['Sheetal', '24', 'F']\n",
      "[]\n",
      "['Ram', '22', 'M', 'Sita', '22', 'F']\n",
      "[]\n",
      "['Shyam', '23', 'M', 'Radha', '23', 'F']\n",
      "[]\n",
      "['Hari ', '24', 'M', 'Sheetal', '24', 'F']\n",
      "[]\n",
      "Average age: 15.923076923076923\n",
      "Number of males: 3\n",
      "Number of females: 6\n"
     ]
    }
   ],
   "source": [
    "import csv\n",
    "with open('1.csv') as f1:\n",
    "    with open('2.csv') as f2:        \n",
    "        data = []\n",
    "        for i in range(1, 4):\n",
    "            filename = f'{i}.csv'\n",
    "            with open(filename, 'r') as csvfile:\n",
    "                csvreader = csv.reader(csvfile)\n",
    "                headers = next(csvreader)\n",
    "                for row in csvreader:\n",
    "                    data.append(dict(zip(headers, row)))\n",
    "                    print(row)\n",
    "aggregated_data = {}\n",
    "for d in data:\n",
    "    for k, v in d.items():\n",
    "        if k not in aggregated_data:\n",
    "            aggregated_data[k] = [v]\n",
    "        else:\n",
    "            aggregated_data[k].append(v)\n",
    "\n",
    "total_age = 0\n",
    "num_males = 0\n",
    "num_females = 0\n",
    "for i in range(len(aggregated_data['age'])):\n",
    "    total_age += int(aggregated_data['age'][i])\n",
    "    if aggregated_data['gender'][i] == 'M':\n",
    "        num_males += 1\n",
    "    else:\n",
    "        num_females += 1\n",
    "\n",
    "avg_age = total_age / len(data)\n",
    "\n",
    "print(f\"Average age: {avg_age}\")\n",
    "print(f\"Number of males: {num_males}\")\n",
    "print(f\"Number of females: {num_females}\")\n",
    "\n"
   ]
  },
  {
   "cell_type": "code",
   "execution_count": null,
   "id": "61ad759a",
   "metadata": {},
   "outputs": [],
   "source": []
  }
 ],
 "metadata": {
  "kernelspec": {
   "display_name": "Python 3 (ipykernel)",
   "language": "python",
   "name": "python3"
  },
  "language_info": {
   "codemirror_mode": {
    "name": "ipython",
    "version": 3
   },
   "file_extension": ".py",
   "mimetype": "text/x-python",
   "name": "python",
   "nbconvert_exporter": "python",
   "pygments_lexer": "ipython3",
   "version": "3.9.13"
  }
 },
 "nbformat": 4,
 "nbformat_minor": 5
}
